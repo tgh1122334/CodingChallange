{
 "cells": [
  {
   "cell_type": "code",
   "execution_count": 4,
   "metadata": {},
   "outputs": [],
   "source": [
    "import numpy as np\n",
    "import pandas as pd\n",
    "import os"
   ]
  },
  {
   "cell_type": "code",
   "execution_count": 5,
   "metadata": {},
   "outputs": [
    {
     "data": {
      "text/plain": [
       "'F:\\\\repos\\\\CodingChallange\\\\glassdoor'"
      ]
     },
     "execution_count": 5,
     "metadata": {},
     "output_type": "execute_result"
    }
   ],
   "source": [
    "os.getcwd()"
   ]
  },
  {
   "cell_type": "code",
   "execution_count": 8,
   "metadata": {},
   "outputs": [],
   "source": [
    "df=pd.read_csv(\"ozan_p_pApply_intern_challenge_03_20_min.csv\", encoding='utf8')"
   ]
  },
  {
   "cell_type": "code",
   "execution_count": 23,
   "metadata": {},
   "outputs": [
    {
     "data": {
      "text/plain": [
       "title_proximity_tfidf          float64\n",
       "description_proximity_tfidf    float64\n",
       "main_query_tfidf               float64\n",
       "query_jl_score                 float64\n",
       "query_title_score              float64\n",
       "city_match                     float64\n",
       "job_age_days                   float64\n",
       "apply                            int64\n",
       "search_date_pacific             object\n",
       "u_id                            object\n",
       "mgoc_id                          int64\n",
       "dtype: object"
      ]
     },
     "execution_count": 23,
     "metadata": {},
     "output_type": "execute_result"
    }
   ],
   "source": [
    "df.dtypes"
   ]
  },
  {
   "cell_type": "code",
   "execution_count": 12,
   "metadata": {},
   "outputs": [
    {
     "data": {
      "text/html": [
       "<div>\n",
       "<style>\n",
       "    .dataframe thead tr:only-child th {\n",
       "        text-align: right;\n",
       "    }\n",
       "\n",
       "    .dataframe thead th {\n",
       "        text-align: left;\n",
       "    }\n",
       "\n",
       "    .dataframe tbody tr th {\n",
       "        vertical-align: top;\n",
       "    }\n",
       "</style>\n",
       "<table border=\"1\" class=\"dataframe\">\n",
       "  <thead>\n",
       "    <tr style=\"text-align: right;\">\n",
       "      <th></th>\n",
       "      <th>title_proximity_tfidf</th>\n",
       "      <th>description_proximity_tfidf</th>\n",
       "      <th>main_query_tfidf</th>\n",
       "      <th>query_jl_score</th>\n",
       "      <th>query_title_score</th>\n",
       "      <th>city_match</th>\n",
       "      <th>job_age_days</th>\n",
       "      <th>apply</th>\n",
       "      <th>search_date_pacific</th>\n",
       "      <th>u_id</th>\n",
       "      <th>mgoc_id</th>\n",
       "    </tr>\n",
       "  </thead>\n",
       "  <tbody>\n",
       "    <tr>\n",
       "      <th>0</th>\n",
       "      <td>0.000000</td>\n",
       "      <td>0.198377</td>\n",
       "      <td>0.000000</td>\n",
       "      <td>0.022545</td>\n",
       "      <td>0.014706</td>\n",
       "      <td>1.0</td>\n",
       "      <td>16.0</td>\n",
       "      <td>0</td>\n",
       "      <td>2018-01-24</td>\n",
       "      <td>5f42afe6-e7d0-4822-b95e-57ae0682fa24</td>\n",
       "      <td>10148</td>\n",
       "    </tr>\n",
       "    <tr>\n",
       "      <th>1</th>\n",
       "      <td>0.000000</td>\n",
       "      <td>0.000000</td>\n",
       "      <td>9.308552</td>\n",
       "      <td>0.005782</td>\n",
       "      <td>0.000003</td>\n",
       "      <td>-1.0</td>\n",
       "      <td>0.0</td>\n",
       "      <td>0</td>\n",
       "      <td>2018-01-24</td>\n",
       "      <td>5f4c930d-fb3c-4b90-b121-b0fdc3dce56d</td>\n",
       "      <td>10016</td>\n",
       "    </tr>\n",
       "    <tr>\n",
       "      <th>2</th>\n",
       "      <td>0.000000</td>\n",
       "      <td>0.000000</td>\n",
       "      <td>9.308552</td>\n",
       "      <td>0.005782</td>\n",
       "      <td>0.000003</td>\n",
       "      <td>-1.0</td>\n",
       "      <td>0.0</td>\n",
       "      <td>0</td>\n",
       "      <td>2018-01-24</td>\n",
       "      <td>5f4c930d-fb3c-4b90-b121-b0fdc3dce56d</td>\n",
       "      <td>10016</td>\n",
       "    </tr>\n",
       "    <tr>\n",
       "      <th>3</th>\n",
       "      <td>11.992127</td>\n",
       "      <td>0.118237</td>\n",
       "      <td>3.462835</td>\n",
       "      <td>0.017337</td>\n",
       "      <td>0.050844</td>\n",
       "      <td>0.0</td>\n",
       "      <td>23.0</td>\n",
       "      <td>0</td>\n",
       "      <td>2018-01-25</td>\n",
       "      <td>5f562c30-b0ad-45ec-9427-145624e0f34b</td>\n",
       "      <td>10039</td>\n",
       "    </tr>\n",
       "    <tr>\n",
       "      <th>4</th>\n",
       "      <td>8.298727</td>\n",
       "      <td>0.000000</td>\n",
       "      <td>0.000000</td>\n",
       "      <td>0.019160</td>\n",
       "      <td>0.018750</td>\n",
       "      <td>1.0</td>\n",
       "      <td>0.0</td>\n",
       "      <td>0</td>\n",
       "      <td>2018-01-23</td>\n",
       "      <td>5f5991c5-253f-4d30-aad1-2abfe9d50de3</td>\n",
       "      <td>-1</td>\n",
       "    </tr>\n",
       "  </tbody>\n",
       "</table>\n",
       "</div>"
      ],
      "text/plain": [
       "   title_proximity_tfidf  description_proximity_tfidf  main_query_tfidf  \\\n",
       "0               0.000000                     0.198377          0.000000   \n",
       "1               0.000000                     0.000000          9.308552   \n",
       "2               0.000000                     0.000000          9.308552   \n",
       "3              11.992127                     0.118237          3.462835   \n",
       "4               8.298727                     0.000000          0.000000   \n",
       "\n",
       "   query_jl_score  query_title_score  city_match  job_age_days  apply  \\\n",
       "0        0.022545           0.014706         1.0          16.0      0   \n",
       "1        0.005782           0.000003        -1.0           0.0      0   \n",
       "2        0.005782           0.000003        -1.0           0.0      0   \n",
       "3        0.017337           0.050844         0.0          23.0      0   \n",
       "4        0.019160           0.018750         1.0           0.0      0   \n",
       "\n",
       "  search_date_pacific                                  u_id  mgoc_id  \n",
       "0          2018-01-24  5f42afe6-e7d0-4822-b95e-57ae0682fa24    10148  \n",
       "1          2018-01-24  5f4c930d-fb3c-4b90-b121-b0fdc3dce56d    10016  \n",
       "2          2018-01-24  5f4c930d-fb3c-4b90-b121-b0fdc3dce56d    10016  \n",
       "3          2018-01-25  5f562c30-b0ad-45ec-9427-145624e0f34b    10039  \n",
       "4          2018-01-23  5f5991c5-253f-4d30-aad1-2abfe9d50de3       -1  "
      ]
     },
     "execution_count": 12,
     "metadata": {},
     "output_type": "execute_result"
    }
   ],
   "source": [
    "df.head()"
   ]
  },
  {
   "cell_type": "code",
   "execution_count": 24,
   "metadata": {},
   "outputs": [
    {
     "data": {
      "text/plain": [
       "title_proximity_tfidf                 float64\n",
       "description_proximity_tfidf           float64\n",
       "main_query_tfidf                      float64\n",
       "query_jl_score                        float64\n",
       "query_title_score                     float64\n",
       "city_match                            float64\n",
       "job_age_days                          float64\n",
       "apply                                   int64\n",
       "search_date_pacific            datetime64[ns]\n",
       "u_id                                   object\n",
       "mgoc_id                                 int64\n",
       "dtype: object"
      ]
     },
     "execution_count": 24,
     "metadata": {},
     "output_type": "execute_result"
    }
   ],
   "source": [
    "df.search_date_pacific=pd.to_datetime(df.search_date_pacific)\n",
    "df.dtypes"
   ]
  },
  {
   "cell_type": "code",
   "execution_count": 25,
   "metadata": {},
   "outputs": [
    {
     "data": {
      "text/plain": [
       "(1200890, 11)"
      ]
     },
     "execution_count": 25,
     "metadata": {},
     "output_type": "execute_result"
    }
   ],
   "source": [
    "df.shape"
   ]
  },
  {
   "cell_type": "code",
   "execution_count": 34,
   "metadata": {},
   "outputs": [
    {
     "data": {
      "text/plain": [
       "search_date_pacific\n",
       "2018-01-21    168163\n",
       "2018-01-22     16016\n",
       "2018-01-23    242371\n",
       "2018-01-24    250276\n",
       "2018-01-25    229836\n",
       "2018-01-26    177702\n",
       "2018-01-27    116526\n",
       "dtype: int64"
      ]
     },
     "execution_count": 34,
     "metadata": {},
     "output_type": "execute_result"
    }
   ],
   "source": [
    "df.groupby(by=\"search_date_pacific\").size()"
   ]
  },
  {
   "cell_type": "code",
   "execution_count": 36,
   "metadata": {},
   "outputs": [
    {
     "data": {
      "text/plain": [
       "Timestamp('2018-01-21 00:00:00')"
      ]
     },
     "execution_count": 36,
     "metadata": {},
     "output_type": "execute_result"
    }
   ],
   "source": [
    "min(df.search_date_pacific)"
   ]
  },
  {
   "cell_type": "code",
   "execution_count": 37,
   "metadata": {},
   "outputs": [],
   "source": [
    "df_train=df[df.search_date_pacific<='2018-01-26']"
   ]
  },
  {
   "cell_type": "code",
   "execution_count": 38,
   "metadata": {},
   "outputs": [],
   "source": [
    "df_test=df[df.search_date_pacific=='2018-01-27']"
   ]
  },
  {
   "cell_type": "code",
   "execution_count": 39,
   "metadata": {},
   "outputs": [
    {
     "data": {
      "text/plain": [
       "1200890"
      ]
     },
     "execution_count": 39,
     "metadata": {},
     "output_type": "execute_result"
    }
   ],
   "source": [
    "df_train.shape[0]+df_test.shape[0]"
   ]
  },
  {
   "cell_type": "code",
   "execution_count": null,
   "metadata": {},
   "outputs": [],
   "source": []
  }
 ],
 "metadata": {
  "kernelspec": {
   "display_name": "Python 3",
   "language": "python",
   "name": "python3"
  },
  "language_info": {
   "codemirror_mode": {
    "name": "ipython",
    "version": 3
   },
   "file_extension": ".py",
   "mimetype": "text/x-python",
   "name": "python",
   "nbconvert_exporter": "python",
   "pygments_lexer": "ipython3",
   "version": "3.6.1"
  }
 },
 "nbformat": 4,
 "nbformat_minor": 2
}
